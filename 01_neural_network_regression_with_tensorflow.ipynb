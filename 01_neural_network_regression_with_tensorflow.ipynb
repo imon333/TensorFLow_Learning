{
  "nbformat": 4,
  "nbformat_minor": 0,
  "metadata": {
    "colab": {
      "provenance": [],
      "gpuType": "T4",
      "authorship_tag": "ABX9TyOFBmPaHScW21vA/HjkCWNE",
      "include_colab_link": true
    },
    "kernelspec": {
      "name": "python3",
      "display_name": "Python 3"
    },
    "language_info": {
      "name": "python"
    },
    "accelerator": "GPU"
  },
  "cells": [
    {
      "cell_type": "markdown",
      "metadata": {
        "id": "view-in-github",
        "colab_type": "text"
      },
      "source": [
        "<a href=\"https://colab.research.google.com/github/imon333/TensorFLow_Learning/blob/main/01_neural_network_regression_with_tensorflow.ipynb\" target=\"_parent\"><img src=\"https://colab.research.google.com/assets/colab-badge.svg\" alt=\"Open In Colab\"/></a>"
      ]
    },
    {
      "cell_type": "markdown",
      "source": [
        "## Introduction ro tegression with Neural Network in TensorFlow\n",
        "\n",
        "Predicting a numerical variable based on some other combination of variable , even shorter... predicting a number."
      ],
      "metadata": {
        "id": "d__pMK-gE-rK"
      }
    },
    {
      "cell_type": "code",
      "source": [
        "# Import Tensorflow\n",
        "import tensorflow as tf\n",
        "print(tf.__version__)"
      ],
      "metadata": {
        "colab": {
          "base_uri": "https://localhost:8080/"
        },
        "id": "17cIiy4zGesS",
        "outputId": "67d2e16c-e479-4307-c78d-eb627a97136a"
      },
      "execution_count": 1,
      "outputs": [
        {
          "output_type": "stream",
          "name": "stdout",
          "text": [
            "2.19.0\n"
          ]
        }
      ]
    },
    {
      "cell_type": "markdown",
      "source": [
        "Createing data to view and fit"
      ],
      "metadata": {
        "id": "IE_Z9KUpH6_K"
      }
    },
    {
      "cell_type": "code",
      "source": [
        "import numpy as np\n",
        "import matplotlib.pyplot as plt\n",
        "\n",
        "# Create features\n",
        "X = np.array([-7.0, -4.0, 2.0, 5.0, 8.0, 11.0, 14.0])\n",
        "\n",
        "# create labels\n",
        "Y = np.array([3.0, 4.0, 9.0, 5.5, 4.0,21.0, 1.0])\n",
        "\n",
        "# Visualize it\n",
        "plt.scatter(X,Y);\n"
      ],
      "metadata": {
        "colab": {
          "base_uri": "https://localhost:8080/",
          "height": 395
        },
        "id": "dZkT5RW2HN4t",
        "outputId": "1fa42270-0723-4308-f81c-4c21a3f7f552"
      },
      "execution_count": 6,
      "outputs": [
        {
          "output_type": "display_data",
          "data": {
            "text/plain": [
              "<Figure size 640x480 with 1 Axes>"
            ],
            "image/png": "[encoded data removed]"
          },
          "metadata": {}
        }
      ]
    },
    {
      "cell_type": "markdown",
      "source": [
        "### Input and output shapes"
      ],
      "metadata": {
        "id": "Hvd-Ycg1JYFK"
      }
    },
    {
      "cell_type": "code",
      "source": [],
      "metadata": {
        "id": "C2KVWocSIAgC"
      },
      "execution_count": null,
      "outputs": []
    }
  ]
}